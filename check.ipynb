{
 "cells": [
  {
   "cell_type": "code",
   "execution_count": 3,
   "metadata": {},
   "outputs": [],
   "source": [
    "import torch\n",
    "from dataset.new_chlora import ChloraData\n",
    "import os\n",
    "import numpy as np\n",
    "from utils import cal_stat, cal_region_stat\n",
    "from torch.utils.data import DataLoader\n",
    "import pandas as pd\n"
   ]
  },
  {
   "cell_type": "code",
   "execution_count": null,
   "metadata": {},
   "outputs": [],
   "source": [
    "# Define data loader\n",
    "ds_base  = \"D:/ceeres/03_Program/01_SYSUM/00_science/04_image_recovery/01_program/00_dataset/\"\n",
    "root_dir = os.path.join(ds_base, \"D:/ceeres/03_Program/01_SYSUM/00_science/04_image_recovery/01_program/00_dataset/chlora_month\")\n",
    "mask_dir = os.path.join(ds_base, \"D:/ceeres/03_Program/01_SYSUM/00_science/04_image_recovery/01_program/00_dataset/chl_mask\")\n",
    "\n",
    "code_dir  = \"D:/ceeres/03_Program/01_SYSUM/00_science/04_image_recovery/01_program/git_repo/convlstm_en_de/\"\n",
    "stats_dir = os.path.join(code_dir, \"record/stats/\")\n",
    "img_dir   = os.path.join(code_dir, \"record/img/\")\n",
    "log_dir   = os.path.join(code_dir, \"record/log/\")\n",
    "\n",
    "results   = os.path.join(code_dir, \"test/20230315-ED/\")\n",
    "os.makedirs(results,exist_ok=True)\n",
    "\n",
    "frames      = 4\n",
    "shape_scale = [480,480]\n",
    "\n",
    "train_dataset = ChloraData(root_dir, frames, shape_scale, is_month=True, mask_dir=mask_dir, is_train=True,is_shuffle=False)\n",
    "train_loader  = DataLoader(train_dataset, batch_size=1, shuffle=False)\n",
    "test_dataset = ChloraData(root_dir, frames, shape_scale, is_month=True, mask_dir=mask_dir, is_train=False,is_shuffle=False)\n",
    "test_loader  = DataLoader(test_dataset, batch_size=1, shuffle=False)"
   ]
  },
  {
   "cell_type": "code",
   "execution_count": null,
   "metadata": {},
   "outputs": [],
   "source": [
    "len(train_dataset.chunk_list)+len(test_dataset.chunk_list)"
   ]
  },
  {
   "cell_type": "code",
   "execution_count": null,
   "metadata": {},
   "outputs": [],
   "source": [
    "def list2csv(lists, csv_name):\n",
    "    df = pd.DataFrame(lists)\n",
    "    df.to_csv(csv_name, index=False, header=False)\n",
    "csv_name = \"D:/ceeres/03_Program/01_SYSUM/00_science/04_image_recovery/01_program/git_repo/convlstm_en_de/test/20230324-ED/20230324-ED.csv\"\n",
    "list2csv(train_dataset.chunk_list+test_dataset.chunk_list, csv_name)"
   ]
  },
  {
   "cell_type": "code",
   "execution_count": 4,
   "metadata": {},
   "outputs": [
    {
     "data": {
      "text/plain": [
       "250"
      ]
     },
     "execution_count": 4,
     "metadata": {},
     "output_type": "execute_result"
    }
   ],
   "source": [
    "dir_ds = \"D:/ceeres/03_Program/01_SYSUM/00_science/04_image_recovery/01_program/git_repo/convlstm_en_de/test/20230324-ED/\"\n",
    "len(os.listdir(dir_ds))"
   ]
  },
  {
   "cell_type": "code",
   "execution_count": 5,
   "metadata": {},
   "outputs": [],
   "source": [
    "dir_list = [os.path.join(dir_ds, i) for i in os.listdir(dir_ds) if i.split(\".\")[-1] == \"npy\"]\n"
   ]
  },
  {
   "cell_type": "code",
   "execution_count": 6,
   "metadata": {},
   "outputs": [],
   "source": [
    "train_stat_list = []\n",
    "label_stat_list = []\n",
    "pred_stat_list  = []\n",
    "\n",
    "for file in dir_list:\n",
    "    array = np.load(file)\n",
    "    train_stat_list.append(cal_stat(array[0],file))\n",
    "    label_stat_list.append(cal_stat(array[1],file))\n",
    "    pred_stat_list.append(cal_stat(array[2],file))\n",
    "\n",
    "save_dir = \"D:/ceeres/03_Program/01_SYSUM/00_science/04_image_recovery/01_program/git_repo/convlstm_en_de/test/20230324-ED/\"\n",
    "np.save(os.path.join(save_dir, \"train_stat.npy\"), np.array(train_stat_list))\n",
    "np.save(os.path.join(save_dir, \"label_stat.npy\"), np.array(label_stat_list))\n",
    "np.save(os.path.join(save_dir, \"pred_stat.npy\"), np.array(pred_stat_list))"
   ]
  },
  {
   "cell_type": "code",
   "execution_count": null,
   "metadata": {},
   "outputs": [],
   "source": [
    "import arcpy\n",
    "import os\n",
    "# 定义输出栅格文件路径和文件名\n",
    "base_dir = \"\"\n",
    "for i in os.listdir(base_dir):\n",
    "    file_dir = os.path.join(base_dir, i)\n",
    "    if file_dir.split(\".\")[-1] == \"shp\":\n",
    "        input_raster = file_dir\n",
    "        output_raster = file_dir.replace(\".shp\", \".tif\")\n",
    "        cell_size = arcpy.Point(0.0001, 0.0001)\n",
    "out_raster = \"C:/data/out.tif\"\n",
    "\n",
    "# 定义输出栅格的左下角坐标\n",
    "lower_left = arcpy.Point(-180, -90)\n",
    "\n",
    "# 定义输出栅格的像素大小，x方向分辨率为0.01度，y方向分辨率为0.01度\n",
    "cell_size = arcpy.Point(0.01, 0.01)\n",
    "\n",
    "# 定义输出栅格的宽度和高度\n",
    "num_rows = 1000\n",
    "num_cols = 1000\n",
    "\n",
    "# 创建输出栅格\n",
    "arcpy.CreateRasterDataset_management(\n",
    "    out_path=\"C:/data\", \n",
    "    out_name=\"out.tif\",\n",
    "    raster_type=\"TIFF\",\n",
    "    number_of_bands=1,\n",
    "    pixel_type=\"32_BIT_FLOAT\",\n",
    "    width=num_cols, \n",
    "    height=num_rows, \n",
    "    pixel_width=cell_size.X, \n",
    "    pixel_height=cell_size.Y, \n",
    "    spatial_reference=arcpy.SpatialReference(4326),  # 使用WGS84投影\n",
    "    config_keyword=\"\",\n",
    "    tile_size=\"128 128\",\n",
    "    pyramid_level=\"-1\",\n",
    "    compression=\"LZ77\",\n",
    "    compression_quality=\"100\",\n",
    "    nodata_value=None,\n",
    "    pyramids=\"PYRAMIDS -1 NEAREST DEFAULT\",\n",
    "    stats=\"STATS -1 0.5\",\n",
    "    keywords=\"\")\n"
   ]
  }
 ],
 "metadata": {
  "kernelspec": {
   "display_name": "torch_cpu_env",
   "language": "python",
   "name": "python3"
  },
  "language_info": {
   "codemirror_mode": {
    "name": "ipython",
    "version": 3
   },
   "file_extension": ".py",
   "mimetype": "text/x-python",
   "name": "python",
   "nbconvert_exporter": "python",
   "pygments_lexer": "ipython3",
   "version": "3.8.13"
  },
  "orig_nbformat": 4,
  "vscode": {
   "interpreter": {
    "hash": "e910ab158563e8b1481785027bfa0b6ebed8a76d1ac7aa337db3ead0e361aef4"
   }
  }
 },
 "nbformat": 4,
 "nbformat_minor": 2
}
